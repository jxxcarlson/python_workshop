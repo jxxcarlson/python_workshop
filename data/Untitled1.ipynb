{
 "cells": [
  {
   "cell_type": "code",
   "execution_count": 1,
   "metadata": {},
   "outputs": [
    {
     "name": "stdout",
     "output_type": "stream",
     "text": [
      "/Users/carlson/dev/python/bootcamp/python_workshop\n"
     ]
    }
   ],
   "source": [
    "cd .."
   ]
  },
  {
   "cell_type": "code",
   "execution_count": 2,
   "metadata": {},
   "outputs": [
    {
     "name": "stdout",
     "output_type": "stream",
     "text": [
      "README.md      \u001b[34mday7\u001b[m\u001b[m/          \u001b[34mheat_equation\u001b[m\u001b[m/ \u001b[34mplot\u001b[m\u001b[m/          \u001b[34mwebservers\u001b[m\u001b[m/\r\n",
      "\u001b[34mdata\u001b[m\u001b[m/          \u001b[34mday8\u001b[m\u001b[m/          \u001b[34mimage\u001b[m\u001b[m/         \u001b[34msimulations\u001b[m\u001b[m/\r\n",
      "\u001b[34mday10\u001b[m\u001b[m/         \u001b[34mday9\u001b[m\u001b[m/          \u001b[34mjupyter\u001b[m\u001b[m/       \u001b[34mtext\u001b[m\u001b[m/\r\n",
      "\u001b[34mday6\u001b[m\u001b[m/          \u001b[34mfinance\u001b[m\u001b[m/       \u001b[34mmarkov\u001b[m\u001b[m/        \u001b[34mwebscrapers\u001b[m\u001b[m/\r\n"
     ]
    }
   ],
   "source": [
    "ls"
   ]
  },
  {
   "cell_type": "code",
   "execution_count": 7,
   "metadata": {},
   "outputs": [
    {
     "name": "stdout",
     "output_type": "stream",
     "text": [
      "/Users/carlson/dev/python/bootcamp/python_workshop/day8\n"
     ]
    }
   ],
   "source": [
    "cd ../day8"
   ]
  },
  {
   "cell_type": "code",
   "execution_count": 8,
   "metadata": {},
   "outputs": [
    {
     "name": "stdout",
     "output_type": "stream",
     "text": [
      "PandasWorkout.ipynb   SIPOVGINIUSA.csv      pop.tsv\r\n",
      "Regression.ipynb      WageVsGDP.ipynb       wages.csv\r\n",
      "RegressionBozo.ipynb  gdp.csv\r\n"
     ]
    }
   ],
   "source": [
    "ls"
   ]
  },
  {
   "cell_type": "code",
   "execution_count": 10,
   "metadata": {},
   "outputs": [
    {
     "ename": "SyntaxError",
     "evalue": "EOL while scanning string literal (<ipython-input-10-3c1c5d75a8c2>, line 1)",
     "output_type": "error",
     "traceback": [
      "\u001b[0;36m  File \u001b[0;32m\"<ipython-input-10-3c1c5d75a8c2>\"\u001b[0;36m, line \u001b[0;32m1\u001b[0m\n\u001b[0;31m    open(pandasWorkout.ipynb')\u001b[0m\n\u001b[0m                             ^\u001b[0m\n\u001b[0;31mSyntaxError\u001b[0m\u001b[0;31m:\u001b[0m EOL while scanning string literal\n"
     ]
    }
   ],
   "source": [
    "open(pandasWorkout.ipynb')"
   ]
  },
  {
   "cell_type": "code",
   "execution_count": null,
   "metadata": {
    "collapsed": true
   },
   "outputs": [],
   "source": []
  }
 ],
 "metadata": {
  "kernelspec": {
   "display_name": "Python 2",
   "language": "python",
   "name": "python2"
  },
  "language_info": {
   "codemirror_mode": {
    "name": "ipython",
    "version": 2
   },
   "file_extension": ".py",
   "mimetype": "text/x-python",
   "name": "python",
   "nbconvert_exporter": "python",
   "pygments_lexer": "ipython2",
   "version": "2.7.13"
  }
 },
 "nbformat": 4,
 "nbformat_minor": 2
}

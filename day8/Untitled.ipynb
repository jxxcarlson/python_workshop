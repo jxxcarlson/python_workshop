{
 "cells": [
  {
   "cell_type": "code",
   "execution_count": 1,
   "metadata": {},
   "outputs": [
    {
     "data": {
      "text/plain": [
       "u'/Users/carlson/dev/python/bootcamp/python_workshop/day8'"
      ]
     },
     "execution_count": 1,
     "metadata": {},
     "output_type": "execute_result"
    }
   ],
   "source": [
    "pwd"
   ]
  },
  {
   "cell_type": "code",
   "execution_count": 3,
   "metadata": {},
   "outputs": [
    {
     "name": "stdout",
     "output_type": "stream",
     "text": [
      "/Users/carlson/dev/python/bootcamp/python_workshop\n"
     ]
    }
   ],
   "source": [
    "cd ..\n"
   ]
  },
  {
   "cell_type": "code",
   "execution_count": 6,
   "metadata": {},
   "outputs": [
    {
     "name": "stdout",
     "output_type": "stream",
     "text": [
      "README.md      \u001b[34mday7\u001b[m\u001b[m/          \u001b[34mheat_equation\u001b[m\u001b[m/ \u001b[34mplot\u001b[m\u001b[m/          \u001b[34mwebservers\u001b[m\u001b[m/\r\n",
      "\u001b[34mdata\u001b[m\u001b[m/          \u001b[34mday8\u001b[m\u001b[m/          \u001b[34mimage\u001b[m\u001b[m/         \u001b[34msimulations\u001b[m\u001b[m/\r\n",
      "\u001b[34mday10\u001b[m\u001b[m/         \u001b[34mday9\u001b[m\u001b[m/          \u001b[34mjupyter\u001b[m\u001b[m/       \u001b[34mtext\u001b[m\u001b[m/\r\n",
      "\u001b[34mday6\u001b[m\u001b[m/          \u001b[34mfinance\u001b[m\u001b[m/       \u001b[34mmarkov\u001b[m\u001b[m/        \u001b[34mwebscrapers\u001b[m\u001b[m/\r\n"
     ]
    }
   ],
   "source": [
    "ls"
   ]
  },
  {
   "cell_type": "code",
   "execution_count": 7,
   "metadata": {},
   "outputs": [
    {
     "name": "stdout",
     "output_type": "stream",
     "text": [
      "\u001b[34mgdp\u001b[m\u001b[m/\r\n"
     ]
    }
   ],
   "source": [
    "ls day7"
   ]
  },
  {
   "cell_type": "code",
   "execution_count": 12,
   "metadata": {},
   "outputs": [
    {
     "name": "stdout",
     "output_type": "stream",
     "text": [
      "[Errno 2] No such file or directory: 'day7/gdp/'\n",
      "/Users/carlson/dev/python/bootcamp/python_workshop/day7/gdp\n"
     ]
    }
   ],
   "source": [
    "cd day7/gdp/"
   ]
  },
  {
   "cell_type": "code",
   "execution_count": 14,
   "metadata": {},
   "outputs": [
    {
     "name": "stdout",
     "output_type": "stream",
     "text": [
      "README.md         \u001b[34mdata\u001b[m\u001b[m/             datapackage.json  \u001b[34mscripts\u001b[m\u001b[m/\r\n"
     ]
    }
   ],
   "source": [
    "ls"
   ]
  },
  {
   "cell_type": "code",
   "execution_count": 15,
   "metadata": {},
   "outputs": [
    {
     "name": "stdout",
     "output_type": "stream",
     "text": [
      "GDP.ipynb  gdp.csv    gdp.png\r\n"
     ]
    }
   ],
   "source": [
    "ls data"
   ]
  },
  {
   "cell_type": "code",
   "execution_count": 16,
   "metadata": {},
   "outputs": [
    {
     "name": "stdout",
     "output_type": "stream",
     "text": [
      "/Users/carlson/dev/python/bootcamp/python_workshop/day7/gdp/data\n"
     ]
    }
   ],
   "source": [
    "cd data"
   ]
  },
  {
   "cell_type": "code",
   "execution_count": 17,
   "metadata": {},
   "outputs": [
    {
     "name": "stdout",
     "output_type": "stream",
     "text": [
      "GDP.ipynb  gdp.csv    gdp.png\r\n"
     ]
    }
   ],
   "source": [
    "ls"
   ]
  },
  {
   "cell_type": "code",
   "execution_count": null,
   "metadata": {
    "collapsed": true
   },
   "outputs": [],
   "source": []
  }
 ],
 "metadata": {
  "kernelspec": {
   "display_name": "Python 2",
   "language": "python",
   "name": "python2"
  },
  "language_info": {
   "codemirror_mode": {
    "name": "ipython",
    "version": 2
   },
   "file_extension": ".py",
   "mimetype": "text/x-python",
   "name": "python",
   "nbconvert_exporter": "python",
   "pygments_lexer": "ipython2",
   "version": "2.7.13"
  }
 },
 "nbformat": 4,
 "nbformat_minor": 2
}

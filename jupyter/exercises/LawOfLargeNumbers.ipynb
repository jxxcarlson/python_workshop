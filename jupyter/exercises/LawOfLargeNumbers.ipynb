{
 "cells": [
  {
   "cell_type": "code",
   "execution_count": 32,
   "metadata": {},
   "outputs": [
    {
     "data": {
      "text/plain": [
       "1"
      ]
     },
     "execution_count": 32,
     "metadata": {},
     "output_type": "execute_result"
    }
   ],
   "source": [
    "\n",
    "import random as r\n",
    "\n",
    "def X():\n",
    "    u = r.random()\n",
    "    if u < 0.5:\n",
    "        return 1\n",
    "    else:\n",
    "        return 0\n",
    "\n",
    "X()"
   ]
  },
  {
   "cell_type": "code",
   "execution_count": 35,
   "metadata": {},
   "outputs": [
    {
     "data": {
      "text/plain": [
       "[0, 0, 1, 1, 1, 1, 1, 1, 0, 0]"
      ]
     },
     "execution_count": 35,
     "metadata": {},
     "output_type": "execute_result"
    }
   ],
   "source": [
    "def run_experiment(N):\n",
    "    results = []\n",
    "    for k in range(0,N):\n",
    "        results = results + [X()]\n",
    "    return results\n",
    "        \n",
    "data = run_experiment(10)\n",
    "\n",
    "data"
   ]
  },
  {
   "cell_type": "code",
   "execution_count": 36,
   "metadata": {
    "collapsed": true
   },
   "outputs": [],
   "source": [
    "def relfreq(time_series):\n",
    "    sum = 0\n",
    "    result = []\n",
    "    for k in range(0, len(time_series)):\n",
    "        sum = sum + time_series[k]\n",
    "        result = result + [sum/float(k+1)]\n",
    "    return result"
   ]
  },
  {
   "cell_type": "code",
   "execution_count": 37,
   "metadata": {},
   "outputs": [
    {
     "name": "stdout",
     "output_type": "stream",
     "text": [
      "[1.0, 1.0, 1.0]\n",
      "[1.0, 1.5, 2.0]\n",
      "[0.0, 0.0, 0.3333333333333333, 0.5, 0.6, 0.6666666666666666, 0.7142857142857143, 0.75, 0.6666666666666666, 0.6]\n"
     ]
    }
   ],
   "source": [
    "print relfreq([1,1,1])\n",
    "print relfreq([1,2,3])\n",
    "print relfreq(data)"
   ]
  },
  {
   "cell_type": "code",
   "execution_count": 38,
   "metadata": {},
   "outputs": [
    {
     "data": {
      "image/png": "[encoded data removed]",
      "text/plain": [
       "<matplotlib.figure.Figure at 0x10b7532d0>"
      ]
     },
     "metadata": {},
     "output_type": "display_data"
    }
   ],
   "source": [
    "import matplotlib.pyplot as plt\n",
    "data = repeat_experiment(100)\n",
    "cdata = cav(data)\n",
    "time = range(0, len(data))\n",
    " \n",
    "midline = [0.5 for k in range(0, len(data))]\n",
    "plt.ylim([0,1])\n",
    "# plt.figure(figsize=(3,1))\n",
    "plt.plot (midline)\n",
    "plt.plot(time, cdata)\n",
    "\n",
    "plt.savefig(\"LLN.png\")\n",
    "plt.show()\n",
    "\n",
    "\n",
    "\n"
   ]
  }
 ],
 "metadata": {
  "kernelspec": {
   "display_name": "Python 2",
   "language": "python",
   "name": "python2"
  },
  "language_info": {
   "codemirror_mode": {
    "name": "ipython",
    "version": 2
   },
   "file_extension": ".py",
   "mimetype": "text/x-python",
   "name": "python",
   "nbconvert_exporter": "python",
   "pygments_lexer": "ipython2",
   "version": "2.7.13"
  }
 },
 "nbformat": 4,
 "nbformat_minor": 2
}

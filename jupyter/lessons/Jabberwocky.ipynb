{
 "cells": [
  {
   "cell_type": "code",
   "execution_count": 111,
   "metadata": {},
   "outputs": [
    {
     "name": "stdout",
     "output_type": "stream",
     "text": [
      "Twas brillig, and the slithy toves\n",
      "      Did gyre and gimble in the wabe:\n",
      "All mimsy were the borogoves,\n",
      "      And the mome raths outgrabe.\n",
      "\n",
      "Beware the Jabberwock, my son!\n",
      "      The jaws that bite, the claws that catch!\n",
      "Beware the Jubjub bird, and shun\n",
      "      The frumious Bandersnatch!\n",
      "\n",
      "He took his vorpal sword in hand;\n",
      "      Long time the manxome foe he sought-\n",
      "So rested he by the Tumtum tree\n",
      "      And stood awhile in thought.\n",
      "\n",
      "And, as in uffish thought he stood,\n",
      "      The Jabberwock, with eyes of flame,\n",
      "Came whiffling through the tulgey wood,\n",
      "      And burbled as it came!\n",
      "\n",
      "One, two! One, two! And through and through\n",
      "      The vorpal blade went snicker-snack!\n",
      "He left it dead, and with its head\n",
      "      He went galumphing back.\n",
      "\n",
      "And hast thou slain the Jabberwock?\n",
      "      Come to my arms, my beamish boy!\n",
      "O frabjous day! Callooh! Callay!\n",
      "      He chortled in his joy.\n",
      "\n",
      "Twas brillig, and the slithy toves\n",
      "      Did gyre and gimble in the wabe:\n",
      "All mimsy were the borogoves,\n",
      "      And the mome raths outgrabe.\n",
      "\n",
      "1012\n"
     ]
    }
   ],
   "source": [
    "# If we are going to work with data, e.g., text files,\n",
    "# we need to be able to read data from files:\n",
    "\n",
    "f = open(\"text/jabberwocky.txt\",\"r\")\n",
    "data = f.read()  \n",
    "f.close()\n",
    "print data\n",
    "print len(data)"
   ]
  },
  {
   "cell_type": "code",
   "execution_count": 112,
   "metadata": {},
   "outputs": [],
   "source": [
    "# Oops, we have to remove punctuation at the end of words\n",
    "import re\n",
    "\n",
    "def depunctuate(word):\n",
    "    return re.sub(r\"(.*)[\\\"\\.,:;!?]\", r\"\\1\", word)\n",
    "    "
   ]
  },
  {
   "cell_type": "code",
   "execution_count": 113,
   "metadata": {},
   "outputs": [
    {
     "name": "stdout",
     "output_type": "stream",
     "text": [
      "foo\n"
     ]
    }
   ],
   "source": [
    "#  We should also map words to lower case \n",
    "# (though this will not matter for word-length frequencies)\n",
    "\n",
    "def normalize(word):\n",
    "    return depunctuate(word).lower() \n",
    "    \n",
    "print normalize(\"Foo!\")"
   ]
  },
  {
   "cell_type": "code",
   "execution_count": 114,
   "metadata": {},
   "outputs": [
    {
     "data": {
      "text/plain": [
       "['twas',\n",
       " 'brillig',\n",
       " 'and',\n",
       " 'the',\n",
       " 'slithy',\n",
       " 'toves',\n",
       " 'did',\n",
       " 'gyre',\n",
       " 'and',\n",
       " 'gimble',\n",
       " 'in',\n",
       " 'the',\n",
       " 'wabe',\n",
       " 'all',\n",
       " 'mimsy',\n",
       " 'were',\n",
       " 'the',\n",
       " 'borogoves',\n",
       " 'and',\n",
       " 'the',\n",
       " 'mome',\n",
       " 'raths',\n",
       " 'outgrabe',\n",
       " 'beware',\n",
       " 'the',\n",
       " 'jabberwock',\n",
       " 'my',\n",
       " 'son',\n",
       " 'the',\n",
       " 'jaws',\n",
       " 'that',\n",
       " 'bite',\n",
       " 'the',\n",
       " 'claws',\n",
       " 'that',\n",
       " 'catch',\n",
       " 'beware',\n",
       " 'the',\n",
       " 'jubjub',\n",
       " 'bird',\n",
       " 'and',\n",
       " 'shun',\n",
       " 'the',\n",
       " 'frumious',\n",
       " 'bandersnatch',\n",
       " 'he',\n",
       " 'took',\n",
       " 'his',\n",
       " 'vorpal',\n",
       " 'sword',\n",
       " 'in',\n",
       " 'hand',\n",
       " 'long',\n",
       " 'time',\n",
       " 'the',\n",
       " 'manxome',\n",
       " 'foe',\n",
       " 'he',\n",
       " 'sought-',\n",
       " 'so',\n",
       " 'rested',\n",
       " 'he',\n",
       " 'by',\n",
       " 'the',\n",
       " 'tumtum',\n",
       " 'tree',\n",
       " 'and',\n",
       " 'stood',\n",
       " 'awhile',\n",
       " 'in',\n",
       " 'thought',\n",
       " 'and',\n",
       " 'as',\n",
       " 'in',\n",
       " 'uffish',\n",
       " 'thought',\n",
       " 'he',\n",
       " 'stood',\n",
       " 'the',\n",
       " 'jabberwock',\n",
       " 'with',\n",
       " 'eyes',\n",
       " 'of',\n",
       " 'flame',\n",
       " 'came',\n",
       " 'whiffling',\n",
       " 'through',\n",
       " 'the',\n",
       " 'tulgey',\n",
       " 'wood',\n",
       " 'and',\n",
       " 'burbled',\n",
       " 'as',\n",
       " 'it',\n",
       " 'came',\n",
       " 'one',\n",
       " 'two',\n",
       " 'one',\n",
       " 'two',\n",
       " 'and',\n",
       " 'through',\n",
       " 'and',\n",
       " 'through',\n",
       " 'the',\n",
       " 'vorpal',\n",
       " 'blade',\n",
       " 'went',\n",
       " 'snicker-snack',\n",
       " 'he',\n",
       " 'left',\n",
       " 'it',\n",
       " 'dead',\n",
       " 'and',\n",
       " 'with',\n",
       " 'its',\n",
       " 'head',\n",
       " 'he',\n",
       " 'went',\n",
       " 'galumphing',\n",
       " 'back',\n",
       " 'and',\n",
       " 'hast',\n",
       " 'thou',\n",
       " 'slain',\n",
       " 'the',\n",
       " 'jabberwock',\n",
       " 'come',\n",
       " 'to',\n",
       " 'my',\n",
       " 'arms',\n",
       " 'my',\n",
       " 'beamish',\n",
       " 'boy',\n",
       " 'o',\n",
       " 'frabjous',\n",
       " 'day',\n",
       " 'callooh',\n",
       " 'callay',\n",
       " 'he',\n",
       " 'chortled',\n",
       " 'in',\n",
       " 'his',\n",
       " 'joy',\n",
       " 'twas',\n",
       " 'brillig',\n",
       " 'and',\n",
       " 'the',\n",
       " 'slithy',\n",
       " 'toves',\n",
       " 'did',\n",
       " 'gyre',\n",
       " 'and',\n",
       " 'gimble',\n",
       " 'in',\n",
       " 'the',\n",
       " 'wabe',\n",
       " 'all',\n",
       " 'mimsy',\n",
       " 'were',\n",
       " 'the',\n",
       " 'borogoves',\n",
       " 'and',\n",
       " 'the',\n",
       " 'mome',\n",
       " 'raths',\n",
       " 'outgrabe']"
      ]
     },
     "execution_count": 114,
     "metadata": {},
     "output_type": "execute_result"
    }
   ],
   "source": [
    "def words(text):\n",
    "    words = text.split()\n",
    "    return map(normalize, words)\n",
    "\n",
    "words(data)"
   ]
  },
  {
   "cell_type": "code",
   "execution_count": 115,
   "metadata": {},
   "outputs": [
    {
     "name": "stdout",
     "output_type": "stream",
     "text": [
      "Word count 166\n",
      "Word lengths [4, 7, 3, 3, 6, 5, 3, 4, 3, 6, 2, 3, 4, 3, 5, 4, 3, 9, 3, 3, 4, 5, 8, 6, 3, 10, 2, 3, 3, 4, 4, 4, 3, 5, 4, 5, 6, 3, 6, 4, 3, 4, 3, 8, 12, 2, 4, 3, 6, 5, 2, 4, 4, 4, 3, 7, 3, 2, 7, 2, 6, 2, 2, 3, 6, 4, 3, 5, 6, 2, 7, 3, 2, 2, 6, 7, 2, 5, 3, 10, 4, 4, 2, 5, 4, 9, 7, 3, 6, 4, 3, 7, 2, 2, 4, 3, 3, 3, 3, 3, 7, 3, 7, 3, 6, 5, 4, 13, 2, 4, 2, 4, 3, 4, 3, 4, 2, 4, 10, 4, 3, 4, 4, 5, 3, 10, 4, 2, 2, 4, 2, 7, 3, 1, 8, 3, 7, 6, 2, 8, 2, 3, 3, 4, 7, 3, 3, 6, 5, 3, 4, 3, 6, 2, 3, 4, 3, 5, 4, 3, 9, 3, 3, 4, 5, 8]\n",
      "Word length stats [4.34, 2.14]\n"
     ]
    }
   ],
   "source": [
    "# We can now count words, and, more interestingly, analyze word frequencies and word-length statistics:\n",
    "\n",
    "def word_count(data):\n",
    "    return len(words(data))\n",
    "\n",
    "def word_lengths(data):\n",
    "    return map(len, words(data))\n",
    "\n",
    "# Our little statistics package\n",
    "from statistics import mean, stdev\n",
    "\n",
    "def word_stats(data):\n",
    "    lengths = word_lengths(data)\n",
    "    return [mean(lengths), stdev(lengths)]\n",
    "\n",
    "print \"Word count\", word_count(data)\n",
    "\n",
    "print \"Word lengths\", word_lengths(data)\n",
    "\n",
    "print \"Word length stats\", word_stats(data)"
   ]
  },
  {
   "cell_type": "code",
   "execution_count": 116,
   "metadata": {},
   "outputs": [],
   "source": [
    "# Aha!  We can modify entries as well as adding them.\n",
    "# This gives us clue of how to populate a dictionary programmatically.\n",
    "# First, we devise an 'add_entry' function:\n",
    "\n",
    "def add_entry(dictionary, key):\n",
    "    if key in dictionary:\n",
    "        dictionary[key] = dictionary[key] + 1\n",
    "    else:\n",
    "        dictionary[key] = 1\n"
   ]
  },
  {
   "cell_type": "code",
   "execution_count": 117,
   "metadata": {},
   "outputs": [],
   "source": [
    "# OK, it is working, but we are still doing too much work by hand.\n",
    "# Let's automate things.\n",
    "\n",
    "def frequencies(data):\n",
    "    freq = dict()\n",
    "    for i in range(0,21):\n",
    "        freq[i] = 0\n",
    "    for datum in data:\n",
    "        add_entry(freq, datum)\n",
    "    return freq\n"
   ]
  },
  {
   "cell_type": "code",
   "execution_count": 118,
   "metadata": {},
   "outputs": [],
   "source": [
    "def rescale(dictionary):\n",
    "    total = float(sum(dictionary.values()))\n",
    "    new_dictionary = dict()\n",
    "    for key in dictionary.keys():\n",
    "        new_dictionary[key] = dictionary[key]/total\n",
    "    return new_dictionary\n",
    "\n"
   ]
  },
  {
   "cell_type": "code",
   "execution_count": 119,
   "metadata": {},
   "outputs": [
    {
     "data": {
      "text/plain": [
       "{0: 0.0,\n",
       " 1: 0.006024096385542169,\n",
       " 2: 0.14457831325301204,\n",
       " 3: 0.29518072289156627,\n",
       " 4: 0.22289156626506024,\n",
       " 5: 0.08433734939759036,\n",
       " 6: 0.09036144578313253,\n",
       " 7: 0.07228915662650602,\n",
       " 8: 0.030120481927710843,\n",
       " 9: 0.018072289156626505,\n",
       " 10: 0.024096385542168676,\n",
       " 11: 0.0,\n",
       " 12: 0.006024096385542169,\n",
       " 13: 0.006024096385542169,\n",
       " 14: 0.0,\n",
       " 15: 0.0,\n",
       " 16: 0.0,\n",
       " 17: 0.0,\n",
       " 18: 0.0,\n",
       " 19: 0.0,\n",
       " 20: 0.0}"
      ]
     },
     "execution_count": 119,
     "metadata": {},
     "output_type": "execute_result"
    }
   ],
   "source": [
    "rfw = rescale(frequencies(word_lengths(data))); rfw"
   ]
  },
  {
   "cell_type": "code",
   "execution_count": 121,
   "metadata": {},
   "outputs": [
    {
     "data": {
      "image/png": "[encoded data removed]",
      "text/plain": [
       "<matplotlib.figure.Figure at 0x10d8711d0>"
      ]
     },
     "metadata": {},
     "output_type": "display_data"
    }
   ],
   "source": [
    "import matplotlib.pyplot as plt\n",
    "import numpy as np\n",
    "\n",
    "yvalues = rfw.values()\n",
    "xvalues = [i for i in range(0,21)]  # [1,2, ..., 11]\n",
    "\n",
    "plt.plot(xvalues, yvalues)\n",
    "plt.savefig(\"jabberwocky.png\")\n",
    "plt.show()\n",
    "\n"
   ]
  },
  {
   "cell_type": "code",
   "execution_count": 122,
   "metadata": {},
   "outputs": [
    {
     "name": "stdout",
     "output_type": "stream",
     "text": [
      "[0.0, 0.006024096385542169, 0.14457831325301204, 0.29518072289156627, 0.22289156626506024, 0.08433734939759036, 0.09036144578313253, 0.07228915662650602, 0.030120481927710843, 0.018072289156626505, 0.024096385542168676, 0.0, 0.006024096385542169, 0.006024096385542169, 0.0, 0.0, 0.0, 0.0, 0.0, 0.0, 0.0]\n",
      "21\n"
     ]
    }
   ],
   "source": [
    "jabb = yvalues; print jabb;  print len(jabb)"
   ]
  },
  {
   "cell_type": "code",
   "execution_count": 123,
   "metadata": {},
   "outputs": [],
   "source": [
    "gett = [0.0,\n",
    " 0.029411764705882353,\n",
    " 0.17647058823529413,\n",
    " 0.23949579831932774,\n",
    " 0.20168067226890757,\n",
    " 0.12605042016806722,\n",
    " 0.08823529411764706,\n",
    " 0.058823529411764705,\n",
    " 0.025210084033613446,\n",
    " 0.04201680672268908,\n",
    " 0.008403361344537815,\n",
    " 0.004201680672268907,\n",
    " 0.0,\n",
    " 0.0,\n",
    " 0.0,\n",
    " 0.0,\n",
    " 0.0,\n",
    " 0.0,\n",
    " 0.0,\n",
    " 0.0,\n",
    " 0.0]"
   ]
  },
  {
   "cell_type": "code",
   "execution_count": 124,
   "metadata": {},
   "outputs": [
    {
     "data": {
      "text/plain": [
       "1.4142135623730951"
      ]
     },
     "execution_count": 124,
     "metadata": {},
     "output_type": "execute_result"
    }
   ],
   "source": [
    "import math\n",
    "\n",
    "def distance(u, v):\n",
    "    d = 0\n",
    "    for i in range(0, len(u)):\n",
    "        delta = u[i] - v[i]\n",
    "        d = d + delta*delta \n",
    "    return math.sqrt(d)\n",
    "\n",
    "distance([1,0], [0,1])"
   ]
  },
  {
   "cell_type": "code",
   "execution_count": 125,
   "metadata": {},
   "outputs": [
    {
     "data": {
      "text/plain": [
       "0.0893005796422794"
      ]
     },
     "execution_count": 125,
     "metadata": {},
     "output_type": "execute_result"
    }
   ],
   "source": [
    "distance(gett, jabb)"
   ]
  },
  {
   "cell_type": "code",
   "execution_count": 138,
   "metadata": {},
   "outputs": [
    {
     "data": {
      "text/plain": [
       "1.4142135623730951"
      ]
     },
     "execution_count": 138,
     "metadata": {},
     "output_type": "execute_result"
    }
   ],
   "source": [
    "def norm(u):\n",
    "    sum = 0\n",
    "    for element in u:\n",
    "        sum = sum + element*element\n",
    "    return math.sqrt(sum)\n",
    "\n",
    "ww = [1,1]\n",
    "norm(ww)"
   ]
  },
  {
   "cell_type": "code",
   "execution_count": 127,
   "metadata": {},
   "outputs": [
    {
     "name": "stdout",
     "output_type": "stream",
     "text": [
      "0.399579611024\n",
      "0.424431685634\n"
     ]
    }
   ],
   "source": [
    "print norm(gett); print norm(jabb)"
   ]
  },
  {
   "cell_type": "code",
   "execution_count": 128,
   "metadata": {},
   "outputs": [
    {
     "data": {
      "text/plain": [
       "[2, 4, 6]"
      ]
     },
     "execution_count": 128,
     "metadata": {},
     "output_type": "execute_result"
    }
   ],
   "source": [
    "def scalarproduct(a, u):\n",
    "    return map(lambda x: a*x, u)\n",
    "    \n",
    "scalarproduct(2, [1,2,3])"
   ]
  },
  {
   "cell_type": "code",
   "execution_count": 139,
   "metadata": {},
   "outputs": [
    {
     "name": "stdout",
     "output_type": "stream",
     "text": [
      "[1.0, 0.0]\n",
      "[0.7071067811865475, 0.7071067811865475]\n"
     ]
    }
   ],
   "source": [
    "def unit_vector(u):\n",
    "    return scalarproduct(1/norm(u), u)\n",
    "\n",
    "print unit_vector([1,0]); print (unit_vector([1,1]))"
   ]
  },
  {
   "cell_type": "code",
   "execution_count": 130,
   "metadata": {},
   "outputs": [
    {
     "data": {
      "text/plain": [
       "0.20827822691415854"
      ]
     },
     "execution_count": 130,
     "metadata": {},
     "output_type": "execute_result"
    }
   ],
   "source": [
    "def normalized_distance(u,v):\n",
    "    return distance(normalize(u), normalize(v))\n",
    "\n",
    "normalized_distance(gett, jabb)"
   ]
  },
  {
   "cell_type": "code",
   "execution_count": 131,
   "metadata": {},
   "outputs": [
    {
     "data": {
      "text/plain": [
       "1"
      ]
     },
     "execution_count": 131,
     "metadata": {},
     "output_type": "execute_result"
    }
   ],
   "source": [
    "def dot(u,v):\n",
    "    sum = 0\n",
    "    for i in range(0, len(u)):\n",
    "        sum = sum + u[i]*v[i]\n",
    "    return sum\n",
    "\n",
    "dot([1,2], [-1, 1])"
   ]
  },
  {
   "cell_type": "code",
   "execution_count": 132,
   "metadata": {},
   "outputs": [],
   "source": [
    "import numpy as np\n",
    "\n",
    "def angle(u,v):\n",
    "    uu = normalize(u)\n",
    "    vv = normalize(v)\n",
    "    return (180/np.pi)*np.arccos(dot(uu,vv))"
   ]
  },
  {
   "cell_type": "code",
   "execution_count": 133,
   "metadata": {},
   "outputs": [
    {
     "name": "stdout",
     "output_type": "stream",
     "text": [
      "0.0\n",
      "90.0\n"
     ]
    }
   ],
   "source": [
    "print angle([1,0], [1,0]); print angle([0,1], [1,0])"
   ]
  },
  {
   "cell_type": "code",
   "execution_count": 134,
   "metadata": {},
   "outputs": [
    {
     "data": {
      "text/plain": [
       "11.955138961487133"
      ]
     },
     "execution_count": 134,
     "metadata": {},
     "output_type": "execute_result"
    }
   ],
   "source": [
    "angle(gett, jabb)"
   ]
  }
 ],
 "metadata": {
  "kernelspec": {
   "display_name": "Python 2",
   "language": "python",
   "name": "python2"
  },
  "language_info": {
   "codemirror_mode": {
    "name": "ipython",
    "version": 2
   },
   "file_extension": ".py",
   "mimetype": "text/x-python",
   "name": "python",
   "nbconvert_exporter": "python",
   "pygments_lexer": "ipython2",
   "version": "2.7.13"
  }
 },
 "nbformat": 4,
 "nbformat_minor": 2
}
